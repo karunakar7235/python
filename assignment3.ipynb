{
 "cells": [
  {
   "cell_type": "markdown",
   "id": "e0563a46-f5cb-41af-afd8-9b03f3776568",
   "metadata": {},
   "source": [
    "# assignment 3"
   ]
  },
  {
   "cell_type": "markdown",
   "id": "e968a1f7-425c-4d3e-afd0-fdbb8ca0ce2c",
   "metadata": {},
   "source": [
    "### 1. Write a Python Program to Check if a Number is Positive, Negative or Zero?"
   ]
  },
  {
   "cell_type": "code",
   "execution_count": 8,
   "id": "8ab2d8a3-a89b-4589-86cd-800d19b84b63",
   "metadata": {},
   "outputs": [
    {
     "name": "stdin",
     "output_type": "stream",
     "text": [
      " -3.44\n"
     ]
    },
    {
     "name": "stdout",
     "output_type": "stream",
     "text": [
      "number is negative\n"
     ]
    }
   ],
   "source": [
    "number = float(input())\n",
    "\n",
    "if number < 0:\n",
    "    print(\"number is negative\")\n",
    "elif number > 0 :\n",
    "    print(\"number is positive\")\n",
    "else:\n",
    "    print(\"number is zero\")"
   ]
  },
  {
   "cell_type": "code",
   "execution_count": 12,
   "id": "aab705c9-5b2f-46e3-933a-c97e310d51d0",
   "metadata": {},
   "outputs": [
    {
     "name": "stdin",
     "output_type": "stream",
     "text": [
      " .89\n"
     ]
    },
    {
     "name": "stdout",
     "output_type": "stream",
     "text": [
      "number is positive\n"
     ]
    }
   ],
   "source": [
    "def my_number(num):\n",
    "    if num < 0:\n",
    "        print(\"number is negative\")\n",
    "    elif num > 0:\n",
    "        print(\"number is positive\")\n",
    "    else:\n",
    "        print(\"number is zero\")\n",
    "user = float(input())\n",
    "my_number(user)"
   ]
  },
  {
   "cell_type": "code",
   "execution_count": 6,
   "id": "04a8434c-928b-4965-b2f0-9e2cbe6f6441",
   "metadata": {},
   "outputs": [
    {
     "name": "stdin",
     "output_type": "stream",
     "text": [
      "enter your number .5\n"
     ]
    },
    {
     "name": "stdout",
     "output_type": "stream",
     "text": [
      "positive\n"
     ]
    }
   ],
   "source": [
    "def number_check(number):\n",
    "    if number < 0:\n",
    "        return \"negative\"\n",
    "    if number > 0:\n",
    "        return \"positive\"\n",
    "    if number == 0:\n",
    "        return \"number is zero\"\n",
    "\n",
    "try:\n",
    "    number = float(input(\"enter your number\"))\n",
    "    print(number_check(number))\n",
    "except Exception as e:\n",
    "    print(\"only number are allowed\",e)"
   ]
  },
  {
   "cell_type": "markdown",
   "id": "8cf0e8fe-439b-4538-82be-d7319c4d47fa",
   "metadata": {},
   "source": [
    "### 2. Write a Python Program to Check if a Number is Odd or Even?"
   ]
  },
  {
   "cell_type": "code",
   "execution_count": 22,
   "id": "59e16041-3e71-4ba0-96af-d4e7304064cf",
   "metadata": {},
   "outputs": [
    {
     "name": "stdin",
     "output_type": "stream",
     "text": [
      " 22\n"
     ]
    },
    {
     "name": "stdout",
     "output_type": "stream",
     "text": [
      "number is even\n"
     ]
    }
   ],
   "source": [
    "check_number = int(input())\n",
    "\n",
    "if check_number % 2 ==0:\n",
    "    print(\"number is even\")\n",
    "else:\n",
    "    print(\"number is odd\")"
   ]
  },
  {
   "cell_type": "code",
   "execution_count": 24,
   "id": "1716ec93-c0bd-4664-a72a-cf16252c8089",
   "metadata": {},
   "outputs": [
    {
     "name": "stdin",
     "output_type": "stream",
     "text": [
      "enter your number to check even or odd: 3\n"
     ]
    },
    {
     "name": "stdout",
     "output_type": "stream",
     "text": [
      "even number\n"
     ]
    }
   ],
   "source": [
    "def even_or_odd(number):\n",
    "    if number % 2 == 0:\n",
    "        return \"even number\"\n",
    "    if number != 0:\n",
    "        return \"odd number\"\n",
    "\n",
    "try:\n",
    "    my_number = int(input(\"enter your number to check even or odd:\"))\n",
    "    print(even_or_odd(number))\n",
    "except Exception as error:\n",
    "    print(error)\n"
   ]
  },
  {
   "cell_type": "code",
   "execution_count": 82,
   "id": "4833071f-75d3-49d5-b220-78daedbdb1dc",
   "metadata": {},
   "outputs": [
    {
     "name": "stdin",
     "output_type": "stream",
     "text": [
      " 67\n"
     ]
    },
    {
     "name": "stdout",
     "output_type": "stream",
     "text": [
      "number is odd\n"
     ]
    }
   ],
   "source": [
    "def check_number(number):\n",
    "    if number % 2 == 0:\n",
    "        print(\"number is even\")\n",
    "    else:\n",
    "        print(\"number is odd\")\n",
    "\n",
    "number = int(input())\n",
    "check_number(number)"
   ]
  },
  {
   "cell_type": "markdown",
   "id": "57959bad-3599-4c8d-b248-75c4993165d8",
   "metadata": {},
   "source": [
    "### 3. Write a Python Program to Check Leap Year?"
   ]
  },
  {
   "cell_type": "code",
   "execution_count": 31,
   "id": "3977fc1a-b98c-40f0-b461-15a8486cbe61",
   "metadata": {},
   "outputs": [
    {
     "name": "stdin",
     "output_type": "stream",
     "text": [
      "enter the to check year :  20\n"
     ]
    },
    {
     "name": "stdout",
     "output_type": "stream",
     "text": [
      "leap year\n"
     ]
    }
   ],
   "source": [
    "def year_check(year):\n",
    "    if (year % 4 == 0 and year % 100 != 0) or year % 400 == 0:\n",
    "        return \"leap year\"\n",
    "    else:\n",
    "        return f\"{year} not a leap year\"\n",
    "try:\n",
    "    year = int(input(\"enter the to check year : \" ))\n",
    "    print(year_check(year))\n",
    "except Exception as error:\n",
    "    print(error)\n",
    "\n"
   ]
  },
  {
   "cell_type": "code",
   "execution_count": 12,
   "id": "33d59263-11cc-4bd3-938c-5a63f3a23123",
   "metadata": {},
   "outputs": [
    {
     "name": "stdin",
     "output_type": "stream",
     "text": [
      " 2000\n"
     ]
    },
    {
     "name": "stdout",
     "output_type": "stream",
     "text": [
      "this year is a leap year\n"
     ]
    }
   ],
   "source": [
    "check_year = int(input())\n",
    "\n",
    "if check_year % 4 == 0:\n",
    "    print(\"this year is a leap year\")\n",
    "else:\n",
    "    print(\"this year is not a leap year\") "
   ]
  },
  {
   "cell_type": "markdown",
   "id": "3621b647-9bc7-48d9-b98c-98361414ac31",
   "metadata": {},
   "source": [
    "### 4. Write a Python Program to Check Prime Number?"
   ]
  },
  {
   "cell_type": "code",
   "execution_count": 24,
   "id": "5bb00497-5bf4-498e-a34e-371a6a46858b",
   "metadata": {},
   "outputs": [
    {
     "name": "stdin",
     "output_type": "stream",
     "text": [
      " 49\n"
     ]
    },
    {
     "name": "stdout",
     "output_type": "stream",
     "text": [
      " this number is not a prime number\n"
     ]
    }
   ],
   "source": [
    "check_primenum = int(input())\n",
    "\n",
    "for item in range(2,check_primenum):\n",
    "    if check_primenum % item == 0:\n",
    "        print(\" this number is not a prime number\")\n",
    "        break\n",
    "else:\n",
    "    print(\" this number is a prime number\")"
   ]
  },
  {
   "cell_type": "code",
   "execution_count": 64,
   "id": "2d5ddd94-5e8f-49a1-a69e-4f50ad9eecce",
   "metadata": {},
   "outputs": [
    {
     "name": "stdin",
     "output_type": "stream",
     "text": [
      " 49\n"
     ]
    },
    {
     "name": "stdout",
     "output_type": "stream",
     "text": [
      "this number is not a prime number \n"
     ]
    }
   ],
   "source": [
    "import math \n",
    "\n",
    "def prime_number(number):\n",
    "    for i in range( 2,(number)+1):\n",
    "        i = math.sqrt(number)\n",
    "        if check_primenum % i == 0:\n",
    "            print(\"this number is not a prime number \")\n",
    "            break\n",
    "    else:\n",
    "        print(\" this number is a prime number \")\n",
    "\n",
    "number = int(input())\n",
    "prime_number(number)"
   ]
  },
  {
   "cell_type": "markdown",
   "id": "ffc9db50-ba84-4cd0-b582-939a514d7c4e",
   "metadata": {},
   "source": [
    "### 5. Write a Python Program to Print all Prime Numbers in an Interval of 1-10000?"
   ]
  },
  {
   "cell_type": "code",
   "execution_count": 62,
   "id": "82a877b3-50b7-459f-875a-156b0e72ea04",
   "metadata": {},
   "outputs": [
    {
     "name": "stdin",
     "output_type": "stream",
     "text": [
      " enter your first number 100\n",
      "enter your last number  1000\n"
     ]
    },
    {
     "name": "stdout",
     "output_type": "stream",
     "text": [
      "[101, 103, 107, 109, 113, 127, 131, 137, 139, 149, 151, 157, 163, 167, 173, 179, 181, 191, 193, 197, 199, 211, 223, 227, 229, 233, 239, 241, 251, 257, 263, 269, 271, 277, 281, 283, 293, 307, 311, 313, 317, 331, 337, 347, 349, 353, 359, 367, 373, 379, 383, 389, 397, 401, 409, 419, 421, 431, 433, 439, 443, 449, 457, 461, 463, 467, 479, 487, 491, 499, 503, 509, 521, 523, 541, 547, 557, 563, 569, 571, 577, 587, 593, 599, 601, 607, 613, 617, 619, 631, 641, 643, 647, 653, 659, 661, 673, 677, 683, 691, 701, 709, 719, 727, 733, 739, 743, 751, 757, 761, 769, 773, 787, 797, 809, 811, 821, 823, 827, 829, 839, 853, 857, 859, 863, 877, 881, 883, 887, 907, 911, 919, 929, 937, 941, 947, 953, 967, 971, 977, 983, 991, 997]\n",
      "75067\n"
     ]
    }
   ],
   "source": [
    "def intrval_number(first_num,last_num):\n",
    "    prime_number = []\n",
    "    \n",
    "    for num in range(first_num,last_num+1):\n",
    "            \n",
    "        for i in range(2,int(num **.5)+1):\n",
    "                \n",
    "            if num % i == 0:\n",
    "                break\n",
    "        else:\n",
    "            prime_number.append(num)\n",
    "    \n",
    "    print(prime_number)\n",
    "    print(sum(prime_number))\n",
    "\n",
    "try:\n",
    "    first_num = int(input(\" enter your first number\"))\n",
    "    last_num = int(input(\"enter your last number \"))\n",
    "    intrval_number(first_num,last_num)\n",
    "\n",
    "except Exception:\n",
    "    print(\"only number are allowed \")"
   ]
  },
  {
   "cell_type": "code",
   "execution_count": 3,
   "id": "039ed817-c799-4814-9f98-d766b7ff56d2",
   "metadata": {},
   "outputs": [
    {
     "name": "stdin",
     "output_type": "stream",
     "text": [
      "enter your first range : 1\n",
      "entr your last range  100\n"
     ]
    },
    {
     "name": "stdout",
     "output_type": "stream",
     "text": [
      "[1, 2, 3, 5, 7, 11, 13, 17, 19, 23, 29, 31, 37, 41, 43, 47, 53, 59, 61, 67, 71, 73, 79, 83, 89, 97]\n",
      "1061\n"
     ]
    }
   ],
   "source": [
    "def list_maker(first_range, last_range):\n",
    "    prime_number_list = []\n",
    "    for j in range(first_range,last_range):\n",
    "\n",
    "        for i in range (2,int(j**.5)+1):\n",
    "\n",
    "            if j%i == 0:\n",
    "                break\n",
    "        else:\n",
    "            prime_number_list.append(j)\n",
    "\n",
    "    print(prime_number_list)\n",
    "    print(sum(prime_number_list))\n",
    "try:\n",
    "    first_range = int(input(\"enter your first range :\"))\n",
    "    last_range = int(input(\"entr your last range \"))\n",
    "    list_maker(first_range,last_range)\n",
    "except Exception as e:\n",
    "    print(\"only numbers\",e)"
   ]
  }
 ],
 "metadata": {
  "kernelspec": {
   "display_name": "Python 3 (ipykernel)",
   "language": "python",
   "name": "python3"
  },
  "language_info": {
   "codemirror_mode": {
    "name": "ipython",
    "version": 3
   },
   "file_extension": ".py",
   "mimetype": "text/x-python",
   "name": "python",
   "nbconvert_exporter": "python",
   "pygments_lexer": "ipython3",
   "version": "3.13.1"
  }
 },
 "nbformat": 4,
 "nbformat_minor": 5
}
