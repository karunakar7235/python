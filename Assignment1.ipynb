{
 "cells": [
  {
   "cell_type": "markdown",
   "id": "8d848e5d-ec7a-44e7-ae87-b4091b917b20",
   "metadata": {},
   "source": [
    "# Assignment"
   ]
  },
  {
   "cell_type": "markdown",
   "id": "46f59614-b982-4164-bce1-634cad39a23c",
   "metadata": {},
   "source": [
    "1. Write a Python program to print \"Hello Python\"?"
   ]
  },
  {
   "cell_type": "code",
   "execution_count": 4,
   "id": "daef2e44-ab5b-4c69-9504-708ac6b37e59",
   "metadata": {},
   "outputs": [
    {
     "name": "stdout",
     "output_type": "stream",
     "text": [
      "Hello Python\n"
     ]
    }
   ],
   "source": [
    "print(\"Hello Python\")"
   ]
  },
  {
   "cell_type": "markdown",
   "id": "4aa20e61-8f44-4441-9e3f-b9c9019da46a",
   "metadata": {},
   "source": [
    "2. Write a Python program to do arithmetical operations addition and division.?"
   ]
  },
  {
   "cell_type": "code",
   "execution_count": 16,
   "id": "2e29a13c-b79e-49c1-aff2-8a6d8dafbe8f",
   "metadata": {},
   "outputs": [
    {
     "name": "stdout",
     "output_type": "stream",
     "text": [
      "Addition of numbers is :  90\n",
      "Addition of numbers is :  0.5\n"
     ]
    }
   ],
   "source": [
    "num1 = 30\n",
    "num2 = 60\n",
    "\n",
    "add = num1 + num2\n",
    "div = num1 / num2\n",
    "print(\"Addition of numbers is : \",add)\n",
    "print(\"Addition of numbers is : \",div)"
   ]
  },
  {
   "cell_type": "markdown",
   "id": "228620c8-fcfa-4c41-8745-4cbe341fcaa3",
   "metadata": {},
   "source": [
    "3. Write a Python program to find the area of a triangle?"
   ]
  },
  {
   "cell_type": "code",
   "execution_count": 3,
   "id": "e8184e8c-3f63-42ba-9dd8-a0be23a97c07",
   "metadata": {},
   "outputs": [
    {
     "name": "stdin",
     "output_type": "stream",
     "text": [
      "Enter the value of base : 10\n",
      "Enter the value of height : 40\n"
     ]
    },
    {
     "name": "stdout",
     "output_type": "stream",
     "text": [
      "Area of triangle is 200.0\n"
     ]
    }
   ],
   "source": [
    "base = int(input(\"Enter the value of base :\"))\n",
    "height = int(input(\"Enter the value of height :\"))\n",
    "area = 1/2 *(base * height)\n",
    "print(\"Area of triangle is\",area)"
   ]
  },
  {
   "cell_type": "markdown",
   "id": "dd632a5a-2d3a-4d79-b268-96262fac3cb5",
   "metadata": {},
   "source": [
    "4. Write a Python program to swap two variables?"
   ]
  },
  {
   "cell_type": "code",
   "execution_count": 2,
   "id": "dedc86aa-689c-4fd4-9a25-32547d57a420",
   "metadata": {},
   "outputs": [
    {
     "name": "stdout",
     "output_type": "stream",
     "text": [
      "the first variable value : 30\n",
      "the second variable value : 20\n"
     ]
    }
   ],
   "source": [
    "first_variable = 20\n",
    "second_variable = 30\n",
    "\n",
    "first_variable,second_variable = second_variable,first_variable\n",
    "print(\"the first variable value :\",first_variable)\n",
    "print(\"the second variable value :\",second_variable)"
   ]
  },
  {
   "cell_type": "markdown",
   "id": "c88eb338-47ae-4781-ab8a-91956357a98d",
   "metadata": {},
   "source": [
    "5. Write a Python program to generate a random number?"
   ]
  },
  {
   "cell_type": "code",
   "execution_count": 7,
   "id": "43d840d9-58af-444f-9b49-278bb7d7c217",
   "metadata": {},
   "outputs": [
    {
     "data": {
      "text/plain": [
       "0.6941502641328288"
      ]
     },
     "execution_count": 7,
     "metadata": {},
     "output_type": "execute_result"
    }
   ],
   "source": [
    "import random\n",
    "random.random()"
   ]
  },
  {
   "cell_type": "code",
   "execution_count": 11,
   "id": "c971eb67-602c-49f3-864c-8ccc30df5637",
   "metadata": {},
   "outputs": [
    {
     "data": {
      "text/plain": [
       "3651"
      ]
     },
     "execution_count": 11,
     "metadata": {},
     "output_type": "execute_result"
    }
   ],
   "source": [
    "random.randint(1000,9999)"
   ]
  },
  {
   "cell_type": "code",
   "execution_count": 15,
   "id": "749e0c3c-7c29-4ddb-8090-6eaef83585dc",
   "metadata": {},
   "outputs": [
    {
     "data": {
      "text/plain": [
       "77"
      ]
     },
     "execution_count": 15,
     "metadata": {},
     "output_type": "execute_result"
    }
   ],
   "source": [
    "random.randrange(1,100,2)"
   ]
  },
  {
   "cell_type": "code",
   "execution_count": null,
   "id": "ba36e0e4-3a89-486f-9376-71115b4faa69",
   "metadata": {},
   "outputs": [],
   "source": []
  }
 ],
 "metadata": {
  "kernelspec": {
   "display_name": "Python 3 (ipykernel)",
   "language": "python",
   "name": "python3"
  },
  "language_info": {
   "codemirror_mode": {
    "name": "ipython",
    "version": 3
   },
   "file_extension": ".py",
   "mimetype": "text/x-python",
   "name": "python",
   "nbconvert_exporter": "python",
   "pygments_lexer": "ipython3",
   "version": "3.9.5"
  }
 },
 "nbformat": 4,
 "nbformat_minor": 5
}
