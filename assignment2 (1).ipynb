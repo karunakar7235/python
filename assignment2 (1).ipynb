{
 "cells": [
  {
   "cell_type": "markdown",
   "id": "1a5e0d4e-ab4e-4add-b054-242bc7b96ff4",
   "metadata": {},
   "source": [
    "# assiment2"
   ]
  },
  {
   "cell_type": "markdown",
   "id": "c570b340-1909-4482-97e6-ca3d22150c51",
   "metadata": {},
   "source": [
    "### 1. Write a Python program to convert kilometers to miles?"
   ]
  },
  {
   "cell_type": "code",
   "execution_count": 3,
   "id": "8a2cb796-c249-4c67-ac61-d3b6cc07fc09",
   "metadata": {},
   "outputs": [
    {
     "name": "stdin",
     "output_type": "stream",
     "text": [
      "enter user of kilometer 12\n"
     ]
    },
    {
     "name": "stdout",
     "output_type": "stream",
     "text": [
      "convert kilometer to mile : 7.5\n"
     ]
    }
   ],
   "source": [
    "# type 1\n",
    "user_km = int(input(\"enter user of kilometer\"))\n",
    "mile = user_km*0.625\n",
    "print(\"convert kilometer to mile :\",  mile )"
   ]
  },
  {
   "cell_type": "code",
   "execution_count": 7,
   "id": "5851d7bc-236c-4c75-8a67-e850b9276dcb",
   "metadata": {},
   "outputs": [
    {
     "name": "stdin",
     "output_type": "stream",
     "text": [
      "enter your kilomerter : 10\n"
     ]
    }
   ],
   "source": [
    "# type 2\n",
    "def my_kilometer(arg):\n",
    "    mile = arg*0.625\n",
    "    print(\"convert kilometer to mile :\",  mile )\n",
    "\n",
    "kilometer = int(input('enter your kilomerter :'))"
   ]
  },
  {
   "cell_type": "code",
   "execution_count": 9,
   "id": "97af3a55-b271-49ea-a3cd-b0c52f363acf",
   "metadata": {},
   "outputs": [
    {
     "name": "stdout",
     "output_type": "stream",
     "text": [
      "convert kilometer to mile : 6.25\n"
     ]
    }
   ],
   "source": [
    "my_kilometer(kilometer)"
   ]
  },
  {
   "cell_type": "markdown",
   "id": "46d7b303-b178-46ea-a4c3-a9b542939115",
   "metadata": {},
   "source": [
    "### 2. Write a Python program to convert Celsius to Fahrenheit?"
   ]
  },
  {
   "cell_type": "code",
   "execution_count": 10,
   "id": "cbe9fc23-a5bd-4d91-84db-b1d1016e58c8",
   "metadata": {},
   "outputs": [
    {
     "name": "stdin",
     "output_type": "stream",
     "text": [
      "enter the value of temp celsious 12\n"
     ]
    },
    {
     "name": "stdout",
     "output_type": "stream",
     "text": [
      "convert ceksius to fahrenheit : 53.6\n"
     ]
    }
   ],
   "source": [
    "temp_celsius = int(input(\"enter the value of temp celsious\",))\n",
    "temp_fahrenheit = temp_celsius*9/5 + 32\n",
    "print(f\"convert ceksius to fahrenheit :\", temp_fahrenheit)"
   ]
  },
  {
   "cell_type": "code",
   "execution_count": 1,
   "id": "769c929b-090b-425a-8b34-0c5c4e04b4e4",
   "metadata": {},
   "outputs": [
    {
     "name": "stdin",
     "output_type": "stream",
     "text": [
      "enter your celsious 12\n"
     ]
    }
   ],
   "source": [
    "def my_celsious(celsious):\n",
    "    fahrenheit = celsious*9/5 + 32\n",
    "    print(f\"convert celsious to fahrenheit :\", fahrenheit)\n",
    "    return fahrenheit\n",
    "celsious = int(input(\"enter your celsious\"))"
   ]
  },
  {
   "cell_type": "code",
   "execution_count": 2,
   "id": "80b551eb-a412-462b-95c2-bdd5a1449539",
   "metadata": {},
   "outputs": [
    {
     "name": "stdout",
     "output_type": "stream",
     "text": [
      "convert celsious to fahrenheit : 53.6\n"
     ]
    },
    {
     "data": {
      "text/plain": [
       "53.6"
      ]
     },
     "execution_count": 2,
     "metadata": {},
     "output_type": "execute_result"
    }
   ],
   "source": [
    "my_celsious(12)"
   ]
  },
  {
   "cell_type": "markdown",
   "id": "3d5b38b3-b012-420a-86e9-74aac11fccb5",
   "metadata": {},
   "source": [
    "### 3. Write a Python program to display calendar?"
   ]
  },
  {
   "cell_type": "code",
   "execution_count": 33,
   "id": "db0d64f3-6259-45b0-9beb-20c801396d81",
   "metadata": {},
   "outputs": [
    {
     "name": "stdout",
     "output_type": "stream",
     "text": [
      "                      August 2024\n",
      "  Mon     Tue     Wed     Thu     Fri     Sat     Sun\n",
      "                            1       2       3       4\n",
      "    5       6       7       8       9      10      11\n",
      "   12      13      14      15      16      17      18\n",
      "   19      20      21      22      23      24      25\n",
      "   26      27      28      29      30      31\n",
      "\n"
     ]
    }
   ],
   "source": [
    "import calendar\n",
    "yy = 2024\n",
    "mm = 8\n",
    "dd = 7\n",
    "print(calendar.month(yy,mm,dd))"
   ]
  },
  {
   "cell_type": "code",
   "execution_count": 9,
   "id": "b42bc7b4-1c17-43dc-9d37-523896035247",
   "metadata": {},
   "outputs": [
    {
     "name": "stdout",
     "output_type": "stream",
     "text": [
      "                                                                         2025\n",
      "\n",
      "      January                   February                   March                     April                      May                       June\n",
      "Mo Tu We Th Fr Sa Su      Mo Tu We Th Fr Sa Su      Mo Tu We Th Fr Sa Su      Mo Tu We Th Fr Sa Su      Mo Tu We Th Fr Sa Su      Mo Tu We Th Fr Sa Su\n",
      "       1  2  3  4  5                      1  2                      1  2          1  2  3  4  5  6                1  2  3  4                         1\n",
      " 6  7  8  9 10 11 12       3  4  5  6  7  8  9       3  4  5  6  7  8  9       7  8  9 10 11 12 13       5  6  7  8  9 10 11       2  3  4  5  6  7  8\n",
      "13 14 15 16 17 18 19      10 11 12 13 14 15 16      10 11 12 13 14 15 16      14 15 16 17 18 19 20      12 13 14 15 16 17 18       9 10 11 12 13 14 15\n",
      "20 21 22 23 24 25 26      17 18 19 20 21 22 23      17 18 19 20 21 22 23      21 22 23 24 25 26 27      19 20 21 22 23 24 25      16 17 18 19 20 21 22\n",
      "27 28 29 30 31            24 25 26 27 28            24 25 26 27 28 29 30      28 29 30                  26 27 28 29 30 31         23 24 25 26 27 28 29\n",
      "                                                    31                                                                            30\n",
      "\n",
      "        July                     August                  September                  October                   November                  December\n",
      "Mo Tu We Th Fr Sa Su      Mo Tu We Th Fr Sa Su      Mo Tu We Th Fr Sa Su      Mo Tu We Th Fr Sa Su      Mo Tu We Th Fr Sa Su      Mo Tu We Th Fr Sa Su\n",
      "    1  2  3  4  5  6                   1  2  3       1  2  3  4  5  6  7             1  2  3  4  5                      1  2       1  2  3  4  5  6  7\n",
      " 7  8  9 10 11 12 13       4  5  6  7  8  9 10       8  9 10 11 12 13 14       6  7  8  9 10 11 12       3  4  5  6  7  8  9       8  9 10 11 12 13 14\n",
      "14 15 16 17 18 19 20      11 12 13 14 15 16 17      15 16 17 18 19 20 21      13 14 15 16 17 18 19      10 11 12 13 14 15 16      15 16 17 18 19 20 21\n",
      "21 22 23 24 25 26 27      18 19 20 21 22 23 24      22 23 24 25 26 27 28      20 21 22 23 24 25 26      17 18 19 20 21 22 23      22 23 24 25 26 27 28\n",
      "28 29 30 31               25 26 27 28 29 30 31      29 30                     27 28 29 30 31            24 25 26 27 28 29 30      29 30 31\n",
      "\n"
     ]
    }
   ],
   "source": [
    "import calendar\n",
    "\n",
    "print(calendar.calendar(2025,m=6,))"
   ]
  },
  {
   "cell_type": "markdown",
   "id": "da04441e-f6e3-4440-a68e-41942d7a364a",
   "metadata": {},
   "source": [
    "### 4. Write a Python program to solve quadratic equation?"
   ]
  },
  {
   "cell_type": "code",
   "execution_count": 12,
   "id": "915008ee-e078-4ed6-989a-6a6e016ab8a7",
   "metadata": {},
   "outputs": [
    {
     "name": "stdout",
     "output_type": "stream",
     "text": [
      "the root are\n",
      "(-0.875-1.2183492931011204j)\n",
      "(-0.875+1.2183492931011204j)\n"
     ]
    }
   ],
   "source": [
    "import cmath \n",
    "\n",
    "a = 4\n",
    "b = 7\n",
    "c = 9\n",
    "\n",
    "dis = (b**2) - (4*a*c)\n",
    "\n",
    "ans1 = (-b - cmath.sqrt(dis))/(2*a)\n",
    "ans2 = (-b + cmath.sqrt(dis))/(2*a)\n",
    "\n",
    "print('the root are')\n",
    "print(ans1)\n",
    "print(ans2)"
   ]
  },
  {
   "cell_type": "markdown",
   "id": "9126edc4-3da7-4ca1-9d3e-488930569d22",
   "metadata": {},
   "source": [
    "### 5. Write a Python program to swap two variables without temp variable?"
   ]
  },
  {
   "cell_type": "code",
   "execution_count": 12,
   "id": "798ee3f8-1f64-43cd-a6fd-4b5a89da5be2",
   "metadata": {},
   "outputs": [
    {
     "name": "stdout",
     "output_type": "stream",
     "text": [
      "25 35\n"
     ]
    }
   ],
   "source": [
    "swap1 = int(input(\"enter your swap1\",\n",
    "swap2 = 25\n",
    "\n",
    "temp = swap1 \n",
    "swap1 = swap2\n",
    "swap2 = temp\n",
    "\n",
    "print(swap1,swap2)"
   ]
  },
  {
   "cell_type": "code",
   "execution_count": null,
   "id": "bdf1137c-83e0-4052-b247-f7350fd8a22f",
   "metadata": {},
   "outputs": [
    {
     "name": "stdin",
     "output_type": "stream",
     "text": [
      "enter your number :  34\n"
     ]
    }
   ],
   "source": [
    "swap1 = int(input(\"enter your number : \"))\n",
    "swap2 = int(input(\"enter your number\"))\n",
    "\n",
    "swap1 , swap2 = swap2 , swap1\n",
    "print(swap1 , swap2)"
   ]
  }
 ],
 "metadata": {
  "kernelspec": {
   "display_name": "Python 3 (ipykernel)",
   "language": "python",
   "name": "python3"
  },
  "language_info": {
   "codemirror_mode": {
    "name": "ipython",
    "version": 3
   },
   "file_extension": ".py",
   "mimetype": "text/x-python",
   "name": "python",
   "nbconvert_exporter": "python",
   "pygments_lexer": "ipython3",
   "version": "3.13.1"
  }
 },
 "nbformat": 4,
 "nbformat_minor": 5
}
